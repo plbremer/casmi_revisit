{
 "cells": [
  {
   "cell_type": "code",
   "execution_count": 19,
   "id": "3f1c9202",
   "metadata": {},
   "outputs": [],
   "source": [
    "import requests\n",
    "from bs4 import BeautifulSoup\n",
    "from pprint import pprint"
   ]
  },
  {
   "cell_type": "code",
   "execution_count": null,
   "id": "19b22c5b",
   "metadata": {},
   "outputs": [],
   "source": [
    "payload_1={\n",
    "    \"utf8\": '✓',\n",
    "    \"authenticity_token\": 'bTHflmDFPhJWri+q0Z3mD86/rsRTbPjGHQ/9C6523VgvRYd4hwqJTSwU9hybFOWiL1SlTK1FJgbv7duGYykB2A==',\n",
    "    \"submit_or_find_or_nl\": 'find',\n",
    "    \"identify_query[candidates]\": None,\n",
    "    \"identify_query[candidates_file]\": '(binary)',\n",
    "    \"identify_query[spectra_type]\": 'ESI',\n",
    "    \"identify_query[ion_mode]\": 'positive',\n",
    "    \"identify_query[predicted_database][]\": 'HMDB',\n",
    "    \"identify_query[predicted_database][]\": 'KEGG',\n",
    "    \"identify_query[predicted_database][]\": 'NP-MRD',\n",
    "    \"adduct_search_spectra_type\": 'ESI',\n",
    "    \"adduct_search_ion_mode\": 'negative',\n",
    "    \"identify_query[adduct_type]\": '[M-H]-',\n",
    "    \"identify_query[parent_ion_mass]\": 173.1038507,\n",
    "    \"parent_ion_mass_type\": 'Original',\n",
    "    \"candidate_mass_tol\": 10,\n",
    "    \"candidate_mass_tol_units\": 'ppm',\n",
    "    \"identify_query[candidate_limit]\": 100,\n",
    "    \"text_or_file\": 'text',\n",
    "    \"low_spectra\": \"41.01452161\t1.675176624\\n\\\n",
    "    113.0720365\t3.568558269\\n\\\n",
    "    114.0560521\t2.15007681\\n\\\n",
    "    129.0669511\t1.487130638\\n\\\n",
    "    131.0826012\t75.89931788\\n\\\n",
    "    156.0778501\t1.634389779\\n\\\n",
    "    173.1043992\t7.252139306\",\n",
    "    \"medium_spectra\": \"41.01452161\t4.571835406\\n\\\n",
    "    58.04107071\t3.313401274\\n\\\n",
    "    112.040402\t1.89761951\\n\\\n",
    "    113.0720365\t3.062838002\\n\\\n",
    "    114.0560521\t12.09130204\\n\\\n",
    "    129.0669511\t6.328092348\\n\\\n",
    "    131.0826012\t57.87870876\\n\\\n",
    "    156.0778501\t1.225672688\",\n",
    "    \"high_spectra\": '',\n",
    "    \"identify_query[input_file]\": '(binary)',\n",
    "    \"identify_query[scoring_function]\": 'Dice',\n",
    "    \"identify_query[num_results]\": 10,\n",
    "    \"mass_tol\": 10.0,\n",
    "    \"mass_tol_units\": 'ppm',\n",
    "    \"identify_query[threshold]\": 0.001,\n",
    "    \"commit\": 'Submit'\n",
    "}"
   ]
  },
  {
   "cell_type": "code",
   "execution_count": null,
   "id": "b617e969",
   "metadata": {},
   "outputs": [],
   "source": [
    "\"40.01927264\t1.078584485\\n\\\n",
    "    41.01452161\t67.72594748\\n\\\n",
    "    43.03017168\t9.525073991\\n\\\n",
    "    44.99820285\t2.847355379\\n\\\n",
    "    58.04107071\t4.071533684\\n\\\n",
    "    72.00910188\t4.133148273\\n\\\n",
    "    83.0614718\t1.304120549\","
   ]
  },
  {
   "cell_type": "code",
   "execution_count": null,
   "id": "edc20fe2",
   "metadata": {},
   "outputs": [],
   "source": [
    "payload_2={'adduct_search_ion_mode': 'positive',\n",
    " 'adduct_search_spectra_type': 'ESI',\n",
    " 'authenticity_token': 'bTHflmDFPhJWri+q0Z3mD86/rsRTbPjGHQ/9C6523VgvRYd4hwqJTSwU9hybFOWiL1SlTK1FJgbv7duGYykB2A==',\n",
    " 'candidate_mass_tol': 20,\n",
    " 'candidate_mass_tol_units': 'ppm',\n",
    " 'commit': 'Submit',\n",
    " 'high_spectra': '',\n",
    " 'identify_query[adduct_type]': '[M+H]+',\n",
    " 'identify_query[candidate_limit]': 100,\n",
    " 'identify_query[candidates]': None,\n",
    " 'identify_query[candidates_file]': '(binary)',\n",
    " 'identify_query[experimental_database][]': 'TMIC',\n",
    " 'identify_query[input_file]': '(binary)',\n",
    " 'identify_query[ion_mode]': 'positive',\n",
    " 'identify_query[num_results]': 10,\n",
    " 'identify_query[parent_ion_mass]': 112.0886,\n",
    " 'identify_query[predicted_database][]': 'YMDB',\n",
    " 'identify_query[scoring_function]': 'DotProduct + Metadata',\n",
    " 'identify_query[spectra_type]': 'ESI',\n",
    " 'identify_query[threshold]': 0.001,\n",
    " 'low_spectra': '59.27354 1800\\n63.23775 1972\\n68.05021 14280\\n83.06084 36867\\n95.06075 478333\\\\n97.39366 2004\\\\n112.03957 3306\\n112.05061 4398\\n112.08712 155076\\n112.09449 6970',\n",
    " 'mass_tol': 20,\n",
    " 'mass_tol_units': 'ppm',\n",
    " 'medium_spectra': '',\n",
    " 'parent_ion_mass_type': 'Original',\n",
    " 'submit_or_find_or_nl': 'find',\n",
    " 'text_or_file': 'text',\n",
    " 'utf8': '✓'}"
   ]
  },
  {
   "cell_type": "code",
   "execution_count": null,
   "id": "3700a5c4",
   "metadata": {},
   "outputs": [],
   "source": [
    "pprint(payload_1)"
   ]
  },
  {
   "cell_type": "code",
   "execution_count": null,
   "id": "cddcfb5f",
   "metadata": {},
   "outputs": [],
   "source": [
    "pprint(payload_2)"
   ]
  },
  {
   "cell_type": "code",
   "execution_count": null,
   "id": "5ea37e27",
   "metadata": {},
   "outputs": [],
   "source": [
    "r=requests.post(\n",
    "    'https://cfmid.wishartlab.com/identify/new',\n",
    "    data=payload_2\n",
    ")"
   ]
  },
  {
   "cell_type": "code",
   "execution_count": null,
   "id": "d8b9a304",
   "metadata": {},
   "outputs": [],
   "source": [
    "r.url"
   ]
  },
  {
   "cell_type": "code",
   "execution_count": null,
   "id": "5a28ec4b",
   "metadata": {},
   "outputs": [],
   "source": [
    "# r2=requests.get(\n",
    "#     r.url[:-7]\n",
    "# )\n",
    "\n",
    "#the results from example query 1\n",
    "r2=requests.get(\n",
    "    'https://cfmid.wishartlab.com/queries/2cbbc224135f5b4d771fa125e3a17e3080543a5d'\n",
    ")\n",
    "#https://cfmid.wishartlab.com/queries/f2a084c6d5008eaf2353601a6d55b49de9f2f179/status"
   ]
  },
  {
   "cell_type": "code",
   "execution_count": 20,
   "id": "8e92cc69",
   "metadata": {},
   "outputs": [],
   "source": [
    "my_url='https://cfmid.wishartlab.com/queries/f2a084c6d5008eaf2353601a6d55b49de9f2f179/status'\n",
    "r2=requests.get(\n",
    "    my_url[:-7]\n",
    ")"
   ]
  },
  {
   "cell_type": "code",
   "execution_count": 21,
   "id": "236d5be6",
   "metadata": {},
   "outputs": [],
   "source": [
    "to_be_parsed=r2.text\n",
    "soup=BeautifulSoup(to_be_parsed,'html.parser')"
   ]
  },
  {
   "cell_type": "code",
   "execution_count": 23,
   "id": "36f45c33",
   "metadata": {},
   "outputs": [
    {
     "data": {
      "text/plain": [
       "2"
      ]
     },
     "execution_count": 23,
     "metadata": {},
     "output_type": "execute_result"
    }
   ],
   "source": [
    "len(temp)"
   ]
  },
  {
   "cell_type": "code",
   "execution_count": 22,
   "id": "4fefeec6",
   "metadata": {},
   "outputs": [],
   "source": [
    "#list(soup.find_all(\"table\",class_=\"identify-display-table\")[0].descendants)#.prettify()\n",
    "temp=soup.find_all(\"table\",class_=\"identify-display-table\")[0].find_all(\"tr\")"
   ]
  },
  {
   "cell_type": "code",
   "execution_count": null,
   "id": "ce8b7aa5",
   "metadata": {},
   "outputs": [],
   "source": [
    "for temp_2 in temp:\n",
    "    #print(temp_tr.td.next_sibling)\n",
    "    #print(list(temp_2.children))\n",
    "    ##print('---------------------------')\n",
    "    print(temp_2.prettify())\n",
    "    print('----------temp2----------------')\n",
    "    for j, temp_3 in enumerate(temp_2.children):\n",
    "        print(temp_3)\n",
    "        print('----------temp3----------------'+str(j))\n",
    "        for temp_4 in temp_3.children:\n",
    "            print(temp_4)\n",
    "            print('----------temp4----------------')\n",
    "    hold=input('hold')\n",
    "    #print('~~~~~~~~~~~~~~~~~~~~~~~~~~~~~~~~~~~')\n",
    "#print(temp[0].td)"
   ]
  },
  {
   "cell_type": "code",
   "execution_count": null,
   "id": "05ccbc54",
   "metadata": {},
   "outputs": [],
   "source": []
  },
  {
   "cell_type": "code",
   "execution_count": null,
   "id": "c146c9d8",
   "metadata": {},
   "outputs": [],
   "source": [
    "results_dict={\n",
    "    'rank':[],\n",
    "    'inchi':[],\n",
    "    'smiles':[],\n",
    "    'direct_parent':[],\n",
    "    'alternative_parents':[]\n",
    "}"
   ]
  },
  {
   "cell_type": "code",
   "execution_count": null,
   "id": "0c3f298a",
   "metadata": {},
   "outputs": [],
   "source": [
    "row_list=soup.find_all(\"table\",class_=\"identify-display-table\")[0].find_all(\"tr\")"
   ]
  },
  {
   "cell_type": "code",
   "execution_count": null,
   "id": "0a87d6af",
   "metadata": {},
   "outputs": [],
   "source": [
    "row_list"
   ]
  },
  {
   "cell_type": "code",
   "execution_count": null,
   "id": "a263beb7",
   "metadata": {},
   "outputs": [],
   "source": [
    "for i,row in enumerate(row_list):\n",
    "    if i==0:\n",
    "        continue\n",
    "    #print(temp_tr.td.next_sibling)\n",
    "    #print(list(temp_2.children))\n",
    "    ##print('---------------------------')\n",
    "    #     print(row.prettify())\n",
    "    #     print('----------temp2----------------')\n",
    "    for j, column in enumerate(row.children):\n",
    "        if j==0:\n",
    "            results_dict['rank'].append(list(column.children)[0])\n",
    "        elif j==5:\n",
    "            results_dict['inchi'].append(list(column.children)[0])\n",
    "            results_dict['smiles'].append(list(column.children)[2])\n",
    "        elif j==6:\n",
    "            results_dict['direct_parent'].append(column.find(\"div\",class_=\"classification\").string)\n",
    "            other_classes=[\n",
    "                element.string for element in column.find_all(\"li\")\n",
    "            ]\n",
    "            results_dict['alternative_parents'].append(other_classes)\n",
    "#         print(temp_3)\n",
    "#         print('----------temp3----------------'+str(j))\n",
    "#         for temp_4 in temp_3.children:\n",
    "#             print(temp_4)\n",
    "#             print('----------temp4----------------')\n",
    "#     hold=input('hold')"
   ]
  },
  {
   "cell_type": "code",
   "execution_count": null,
   "id": "1f3eba8a",
   "metadata": {},
   "outputs": [],
   "source": [
    "pprint(results_dict)"
   ]
  },
  {
   "cell_type": "code",
   "execution_count": null,
   "id": "7bfcd1e9",
   "metadata": {},
   "outputs": [],
   "source": []
  },
  {
   "cell_type": "code",
   "execution_count": null,
   "id": "2409c1cd",
   "metadata": {},
   "outputs": [],
   "source": []
  },
  {
   "cell_type": "code",
   "execution_count": null,
   "id": "0d964dc3",
   "metadata": {},
   "outputs": [],
   "source": []
  },
  {
   "cell_type": "code",
   "execution_count": null,
   "id": "c9756568",
   "metadata": {},
   "outputs": [],
   "source": []
  },
  {
   "cell_type": "code",
   "execution_count": null,
   "id": "3a84a0d4",
   "metadata": {},
   "outputs": [],
   "source": []
  },
  {
   "cell_type": "code",
   "execution_count": null,
   "id": "a07bb788",
   "metadata": {},
   "outputs": [],
   "source": []
  },
  {
   "cell_type": "code",
   "execution_count": null,
   "id": "19e28900",
   "metadata": {},
   "outputs": [],
   "source": []
  },
  {
   "cell_type": "code",
   "execution_count": null,
   "id": "6b9c030a",
   "metadata": {},
   "outputs": [],
   "source": []
  },
  {
   "cell_type": "code",
   "execution_count": null,
   "id": "30dda68c",
   "metadata": {},
   "outputs": [],
   "source": []
  },
  {
   "cell_type": "code",
   "execution_count": null,
   "id": "c9dc78e8",
   "metadata": {},
   "outputs": [],
   "source": []
  },
  {
   "cell_type": "code",
   "execution_count": null,
   "id": "534ad529",
   "metadata": {},
   "outputs": [],
   "source": []
  },
  {
   "cell_type": "code",
   "execution_count": null,
   "id": "9f55cc5f",
   "metadata": {},
   "outputs": [],
   "source": []
  },
  {
   "cell_type": "code",
   "execution_count": null,
   "id": "ee914fde",
   "metadata": {},
   "outputs": [],
   "source": []
  },
  {
   "cell_type": "code",
   "execution_count": null,
   "id": "4a96e7ae",
   "metadata": {},
   "outputs": [],
   "source": []
  },
  {
   "cell_type": "code",
   "execution_count": null,
   "id": "6aa14ae5",
   "metadata": {},
   "outputs": [],
   "source": []
  },
  {
   "cell_type": "code",
   "execution_count": null,
   "id": "a9b76e12",
   "metadata": {},
   "outputs": [],
   "source": [
    "for i,row in enumerate(row_list):\n",
    "    if i==0:\n",
    "        continue\n",
    "    #print(temp_tr.td.next_sibling)\n",
    "    #print(list(temp_2.children))\n",
    "    ##print('---------------------------')\n",
    "    print(row.prettify())\n",
    "    print('----------temp2----------------')\n",
    "    for j, column in enumerate(row.children):\n",
    "        if j==0:\n",
    "            results_dict['rank'].append(list(column.children)[0])\n",
    "#         print(temp_3)\n",
    "#         print('----------temp3----------------'+str(j))\n",
    "#         for temp_4 in temp_3.children:\n",
    "#             print(temp_4)\n",
    "#             print('----------temp4----------------')\n",
    "#     hold=input('hold')"
   ]
  },
  {
   "cell_type": "code",
   "execution_count": null,
   "id": "35d1c014",
   "metadata": {},
   "outputs": [],
   "source": []
  },
  {
   "cell_type": "code",
   "execution_count": null,
   "id": "2dbfa5be",
   "metadata": {},
   "outputs": [],
   "source": []
  },
  {
   "cell_type": "code",
   "execution_count": null,
   "id": "7c415aa7",
   "metadata": {},
   "outputs": [],
   "source": [
    "row_list=soup.find_all(\"table\",class_=\"identify-display-table\")[0].find_all(\"tr\")"
   ]
  },
  {
   "cell_type": "code",
   "execution_count": null,
   "id": "6f35612e",
   "metadata": {},
   "outputs": [],
   "source": [
    "for i,row in enumerate(row_list):\n",
    "    if i==0:\n",
    "        continue\n",
    "    #print(temp_tr.td.next_sibling)\n",
    "    #print(list(temp_2.children))\n",
    "    ##print('---------------------------')\n",
    "    #print(row.prettify())\n",
    "    #print('----------temp2----------------')\n",
    "    for j, column in enumerate(row.children):\n",
    "        if j==6:\n",
    "            #results_dict['rank'].append(list(column.children)[0])\n",
    "            #temp_list=column.find_all(\"li\")\n",
    "            print(column.find(\"div\",class_=\"classification\").string)\n",
    "            #print(temp_list)\n",
    "            direct_parent=column.find(\"div\",class_=\"classification\").string\n",
    "            print('hi')\n",
    "            # print(list(column.find_all(\"li\")))\n",
    "            other_classes=[\n",
    "                element.string for element in column.find_all(\"li\")\n",
    "            ]\n",
    "            print(other_classes)"
   ]
  },
  {
   "cell_type": "code",
   "execution_count": null,
   "id": "7c0eb008",
   "metadata": {},
   "outputs": [],
   "source": []
  },
  {
   "cell_type": "code",
   "execution_count": null,
   "id": "d774fec2",
   "metadata": {},
   "outputs": [],
   "source": []
  },
  {
   "cell_type": "code",
   "execution_count": null,
   "id": "22aa9072",
   "metadata": {},
   "outputs": [],
   "source": []
  },
  {
   "cell_type": "code",
   "execution_count": null,
   "id": "10aa474a",
   "metadata": {},
   "outputs": [],
   "source": []
  },
  {
   "cell_type": "code",
   "execution_count": null,
   "id": "9fae2d31",
   "metadata": {},
   "outputs": [],
   "source": []
  },
  {
   "cell_type": "code",
   "execution_count": null,
   "id": "50bec426",
   "metadata": {},
   "outputs": [],
   "source": []
  },
  {
   "cell_type": "code",
   "execution_count": null,
   "id": "05f1c816",
   "metadata": {},
   "outputs": [],
   "source": []
  },
  {
   "cell_type": "code",
   "execution_count": null,
   "id": "19a4a45c",
   "metadata": {},
   "outputs": [],
   "source": []
  },
  {
   "cell_type": "code",
   "execution_count": null,
   "id": "6ab71fe9",
   "metadata": {},
   "outputs": [],
   "source": []
  },
  {
   "cell_type": "code",
   "execution_count": null,
   "id": "3d301871",
   "metadata": {},
   "outputs": [],
   "source": []
  },
  {
   "cell_type": "code",
   "execution_count": null,
   "id": "b5730c0d",
   "metadata": {},
   "outputs": [],
   "source": []
  },
  {
   "cell_type": "code",
   "execution_count": null,
   "id": "3c7a6dd6",
   "metadata": {},
   "outputs": [],
   "source": [
    "#used inspect to find taht "
   ]
  },
  {
   "cell_type": "code",
   "execution_count": null,
   "id": "bec00cfc",
   "metadata": {},
   "outputs": [],
   "source": []
  },
  {
   "cell_type": "code",
   "execution_count": null,
   "id": "6b1fbc60",
   "metadata": {},
   "outputs": [],
   "source": []
  },
  {
   "cell_type": "code",
   "execution_count": null,
   "id": "3cc9bf23",
   "metadata": {},
   "outputs": [],
   "source": []
  },
  {
   "cell_type": "code",
   "execution_count": null,
   "id": "cbfae1bb",
   "metadata": {},
   "outputs": [],
   "source": []
  },
  {
   "cell_type": "code",
   "execution_count": null,
   "id": "fa8f79b1",
   "metadata": {},
   "outputs": [],
   "source": [
    "r2=requests.get(\n",
    "    'https://cfmid.wishartlab.com/queries/f255a3cb93fc478e3bb4c439049ad1b56bd64d69'\n",
    ")"
   ]
  },
  {
   "cell_type": "code",
   "execution_count": null,
   "id": "73072a75",
   "metadata": {},
   "outputs": [],
   "source": [
    "r2.status_code"
   ]
  },
  {
   "cell_type": "code",
   "execution_count": null,
   "id": "7cf1d187",
   "metadata": {},
   "outputs": [],
   "source": [
    "#so if error code 500, thats a case"
   ]
  },
  {
   "cell_type": "code",
   "execution_count": null,
   "id": "c180af16",
   "metadata": {},
   "outputs": [],
   "source": []
  },
  {
   "cell_type": "code",
   "execution_count": null,
   "id": "072b017a",
   "metadata": {},
   "outputs": [],
   "source": [
    "r2=requests.get(\n",
    "    'https://cfmid.wishartlab.com/queries/93771da0aa9edc3649c7b9cc6b9d22f93bf7b351'\n",
    ")"
   ]
  },
  {
   "cell_type": "code",
   "execution_count": null,
   "id": "0c194262",
   "metadata": {},
   "outputs": [],
   "source": [
    "to_be_parsed=r2.text\n",
    "soup=BeautifulSoup(to_be_parsed,'html.parser')"
   ]
  },
  {
   "cell_type": "code",
   "execution_count": null,
   "id": "105a8586",
   "metadata": {},
   "outputs": [],
   "source": [
    "temp=soup.find_all(\"table\",class_=\"identify-display-table\")[0].find_all(\"tr\")"
   ]
  },
  {
   "cell_type": "code",
   "execution_count": null,
   "id": "ce415764",
   "metadata": {},
   "outputs": [],
   "source": [
    "len(temp)"
   ]
  },
  {
   "cell_type": "code",
   "execution_count": null,
   "id": "67cfcec8",
   "metadata": {},
   "outputs": [],
   "source": [
    "#check the length of temp. if its 1, then our request succeeded but there were no responses?"
   ]
  },
  {
   "cell_type": "code",
   "execution_count": null,
   "id": "8e0b4657",
   "metadata": {},
   "outputs": [],
   "source": [
    "r2.status_code"
   ]
  },
  {
   "cell_type": "code",
   "execution_count": null,
   "id": "88f64926",
   "metadata": {},
   "outputs": [],
   "source": []
  }
 ],
 "metadata": {
  "kernelspec": {
   "display_name": "Python 3",
   "language": "python",
   "name": "python3"
  },
  "language_info": {
   "codemirror_mode": {
    "name": "ipython",
    "version": 3
   },
   "file_extension": ".py",
   "mimetype": "text/x-python",
   "name": "python",
   "nbconvert_exporter": "python",
   "pygments_lexer": "ipython3",
   "version": "3.8.8"
  }
 },
 "nbformat": 4,
 "nbformat_minor": 5
}
